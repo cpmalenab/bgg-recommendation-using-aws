{
 "cells": [
  {
   "cell_type": "markdown",
   "metadata": {},
   "source": [
    "# AWS Glue Studio Notebook\n",
    "##### You are now running a AWS Glue Studio notebook; To start using your notebook you need to start an AWS Glue Interactive Session.\n"
   ]
  },
  {
   "cell_type": "markdown",
   "metadata": {},
   "source": [
    "#### Optional: Run this cell to see available notebook commands (\"magics\").\n"
   ]
  },
  {
   "cell_type": "code",
   "execution_count": null,
   "metadata": {},
   "outputs": [],
   "source": [
    "%help"
   ]
  },
  {
   "cell_type": "markdown",
   "metadata": {},
   "source": [
    "####  Run this cell to set up and start your interactive session.\n"
   ]
  },
  {
   "cell_type": "code",
   "execution_count": 1,
   "metadata": {},
   "outputs": [
    {
     "name": "stdout",
     "output_type": "stream",
     "text": [
      "Current idle_timeout is 2880 minutes.\n",
      "idle_timeout has been set to 2880 minutes.\n",
      "Setting Glue version to: 3.0\n",
      "Previous worker type: G.1X\n",
      "Setting new worker type to: G.1X\n",
      "Previous number of workers: 2\n",
      "Setting new number of workers to: 2\n",
      "Trying to create a Glue session for the kernel.\n",
      "Worker Type: G.1X\n",
      "Number of Workers: 2\n",
      "Session ID: 8cf04039-a925-439f-a4c9-8ee31e84ee82\n",
      "Job Type: glueetl\n",
      "Applying the following default arguments:\n",
      "--glue_kernel_version 0.38.1\n",
      "--enable-glue-datacatalog true\n",
      "Waiting for session 8cf04039-a925-439f-a4c9-8ee31e84ee82 to get into ready status...\n",
      "Session 8cf04039-a925-439f-a4c9-8ee31e84ee82 has been created.\n",
      "\n"
     ]
    }
   ],
   "source": [
    "%idle_timeout 2880\n",
    "%glue_version 3.0\n",
    "%worker_type G.1X\n",
    "%number_of_workers 2\n",
    "\n",
    "import sys\n",
    "from awsglue.transforms import *\n",
    "from awsglue.utils import getResolvedOptions\n",
    "from pyspark.context import SparkContext\n",
    "from awsglue.context import GlueContext\n",
    "from awsglue.job import Job\n",
    "  \n",
    "sc = SparkContext.getOrCreate()\n",
    "glueContext = GlueContext(sc)\n",
    "spark = glueContext.spark_session\n",
    "job = Job(glueContext)"
   ]
  },
  {
   "cell_type": "code",
   "execution_count": 2,
   "metadata": {
    "tags": []
   },
   "outputs": [
    {
     "name": "stdout",
     "output_type": "stream",
     "text": [
      "\n"
     ]
    }
   ],
   "source": [
    "bggdf = glueContext.create_dynamic_frame.from_catalog(database=\"bgg-database\", table_name=\"bgg_raw_xml_data_test\")"
   ]
  },
  {
   "cell_type": "code",
   "execution_count": 3,
   "metadata": {
    "scrolled": false,
    "tags": []
   },
   "outputs": [
    {
     "name": "stdout",
     "output_type": "stream",
     "text": [
      "root\n",
      "|-- _id: int\n",
      "|-- _type: string\n",
      "|-- description: string\n",
      "|-- image: string\n",
      "|-- link: array\n",
      "|    |-- element: struct\n",
      "|    |    |-- _VALUE: null\n",
      "|    |    |-- _id: int\n",
      "|    |    |-- _inbound: boolean\n",
      "|    |    |-- _type: string\n",
      "|    |    |-- _value: string\n",
      "|-- maxplayers: struct\n",
      "|    |-- _VALUE: null\n",
      "|    |-- _value: int\n",
      "|-- maxplaytime: struct\n",
      "|    |-- _VALUE: null\n",
      "|    |-- _value: int\n",
      "|-- minage: struct\n",
      "|    |-- _VALUE: null\n",
      "|    |-- _value: int\n",
      "|-- minplayers: struct\n",
      "|    |-- _VALUE: null\n",
      "|    |-- _value: int\n",
      "|-- minplaytime: struct\n",
      "|    |-- _VALUE: null\n",
      "|    |-- _value: int\n",
      "|-- name: choice\n",
      "|    |-- array\n",
      "|    |    |-- element: struct\n",
      "|    |    |    |-- _VALUE: null\n",
      "|    |    |    |-- _sortindex: int\n",
      "|    |    |    |-- _type: string\n",
      "|    |    |    |-- _value: string\n",
      "|    |-- struct\n",
      "|    |    |-- _VALUE: null\n",
      "|    |    |-- _sortindex: int\n",
      "|    |    |-- _type: string\n",
      "|    |    |-- _value: string\n",
      "|-- playingtime: struct\n",
      "|    |-- _VALUE: null\n",
      "|    |-- _value: int\n",
      "|-- poll: array\n",
      "|    |-- element: struct\n",
      "|    |    |-- _name: string\n",
      "|    |    |-- _title: string\n",
      "|    |    |-- _totalvotes: int\n",
      "|    |    |-- results: array\n",
      "|    |    |    |-- element: struct\n",
      "|    |    |    |    |-- _numplayers: string\n",
      "|    |    |    |    |-- result: array\n",
      "|    |    |    |    |    |-- element: struct\n",
      "|    |    |    |    |    |    |-- _VALUE: null\n",
      "|    |    |    |    |    |    |-- _level: int\n",
      "|    |    |    |    |    |    |-- _numvotes: int\n",
      "|    |    |    |    |    |    |-- _value: string\n",
      "|-- statistics: struct\n",
      "|    |-- _page: int\n",
      "|    |-- ratings: struct\n",
      "|    |    |-- average: struct\n",
      "|    |    |    |-- _VALUE: null\n",
      "|    |    |    |-- _value: double\n",
      "|    |    |-- averageweight: struct\n",
      "|    |    |    |-- _VALUE: null\n",
      "|    |    |    |-- _value: choice\n",
      "|    |    |    |    |-- double\n",
      "|    |    |    |    |-- int\n",
      "|    |    |-- bayesaverage: struct\n",
      "|    |    |    |-- _VALUE: null\n",
      "|    |    |    |-- _value: double\n",
      "|    |    |-- median: struct\n",
      "|    |    |    |-- _VALUE: null\n",
      "|    |    |    |-- _value: int\n",
      "|    |    |-- numcomments: struct\n",
      "|    |    |    |-- _VALUE: null\n",
      "|    |    |    |-- _value: int\n",
      "|    |    |-- numweights: struct\n",
      "|    |    |    |-- _VALUE: null\n",
      "|    |    |    |-- _value: int\n",
      "|    |    |-- owned: struct\n",
      "|    |    |    |-- _VALUE: null\n",
      "|    |    |    |-- _value: int\n",
      "|    |    |-- ranks: struct\n",
      "|    |    |    |-- rank: array\n",
      "|    |    |    |    |-- element: struct\n",
      "|    |    |    |    |    |-- _VALUE: null\n",
      "|    |    |    |    |    |-- _bayesaverage: double\n",
      "|    |    |    |    |    |-- _friendlyname: string\n",
      "|    |    |    |    |    |-- _id: int\n",
      "|    |    |    |    |    |-- _name: string\n",
      "|    |    |    |    |    |-- _type: string\n",
      "|    |    |    |    |    |-- _value: int\n",
      "|    |    |-- stddev: struct\n",
      "|    |    |    |-- _VALUE: null\n",
      "|    |    |    |-- _value: double\n",
      "|    |    |-- trading: struct\n",
      "|    |    |    |-- _VALUE: null\n",
      "|    |    |    |-- _value: int\n",
      "|    |    |-- usersrated: struct\n",
      "|    |    |    |-- _VALUE: null\n",
      "|    |    |    |-- _value: int\n",
      "|    |    |-- wanting: struct\n",
      "|    |    |    |-- _VALUE: null\n",
      "|    |    |    |-- _value: int\n",
      "|    |    |-- wishing: struct\n",
      "|    |    |    |-- _VALUE: null\n",
      "|    |    |    |-- _value: int\n",
      "|-- thumbnail: string\n",
      "|-- yearpublished: struct\n",
      "|    |-- _VALUE: null\n",
      "|    |-- _value: int\n"
     ]
    }
   ],
   "source": [
    "bggdf.printSchema()"
   ]
  },
  {
   "cell_type": "code",
   "execution_count": 4,
   "metadata": {
    "tags": []
   },
   "outputs": [
    {
     "name": "stdout",
     "output_type": "stream",
     "text": [
      "dict_keys(['root', 'root_poll.val.results.val.result', 'root_poll.val.results', 'root_link', 'root_statistics.ratings.ranks.rank', 'root_name.array', 'root_poll'])\n"
     ]
    }
   ],
   "source": [
    "bgg_relationalize = bggdf.relationalize(\"root\", \"s3://bgg-raw-xml-data-test/glue_relationalize/\")\n",
    "bgg_relationalize.keys()"
   ]
  },
  {
   "cell_type": "code",
   "execution_count": 6,
   "metadata": {
    "tags": []
   },
   "outputs": [
    {
     "name": "stdout",
     "output_type": "stream",
     "text": [
      "root\n",
      "|-- _id: int\n",
      "|-- _type: string\n",
      "|-- description: string\n",
      "|-- image: string\n",
      "|-- link: long\n",
      "|-- maxplayers._VALUE: null\n",
      "|-- maxplayers._value: int\n",
      "|-- maxplaytime._VALUE: null\n",
      "|-- maxplaytime._value: int\n",
      "|-- minage._VALUE: null\n",
      "|-- minage._value: int\n",
      "|-- minplayers._VALUE: null\n",
      "|-- minplayers._value: int\n",
      "|-- minplaytime._VALUE: null\n",
      "|-- minplaytime._value: int\n",
      "|-- name.array: long\n",
      "|-- name.struct._VALUE: null\n",
      "|-- name.struct._sortindex: int\n",
      "|-- name.struct._type: string\n",
      "|-- name.struct._value: string\n",
      "|-- playingtime._VALUE: null\n",
      "|-- playingtime._value: int\n",
      "|-- poll: long\n",
      "|-- statistics._page: int\n",
      "|-- statistics.ratings.average._VALUE: null\n",
      "|-- statistics.ratings.average._value: double\n",
      "|-- statistics.ratings.averageweight._VALUE: null\n",
      "|-- statistics.ratings.averageweight._value.double: double\n",
      "|-- statistics.ratings.averageweight._value.int: int\n",
      "|-- statistics.ratings.bayesaverage._VALUE: null\n",
      "|-- statistics.ratings.bayesaverage._value: double\n",
      "|-- statistics.ratings.median._VALUE: null\n",
      "|-- statistics.ratings.median._value: int\n",
      "|-- statistics.ratings.numcomments._VALUE: null\n",
      "|-- statistics.ratings.numcomments._value: int\n",
      "|-- statistics.ratings.numweights._VALUE: null\n",
      "|-- statistics.ratings.numweights._value: int\n",
      "|-- statistics.ratings.owned._VALUE: null\n",
      "|-- statistics.ratings.owned._value: int\n",
      "|-- statistics.ratings.ranks.rank: long\n",
      "|-- statistics.ratings.stddev._VALUE: null\n",
      "|-- statistics.ratings.stddev._value: double\n",
      "|-- statistics.ratings.trading._VALUE: null\n",
      "|-- statistics.ratings.trading._value: int\n",
      "|-- statistics.ratings.usersrated._VALUE: null\n",
      "|-- statistics.ratings.usersrated._value: int\n",
      "|-- statistics.ratings.wanting._VALUE: null\n",
      "|-- statistics.ratings.wanting._value: int\n",
      "|-- statistics.ratings.wishing._VALUE: null\n",
      "|-- statistics.ratings.wishing._value: int\n",
      "|-- thumbnail: string\n",
      "|-- yearpublished._VALUE: null\n",
      "|-- yearpublished._value: int\n"
     ]
    }
   ],
   "source": [
    "bggflatdf = bgg_relationalize.select(\"root\")\n",
    "bggflatdf.printSchema()"
   ]
  },
  {
   "cell_type": "code",
   "execution_count": 13,
   "metadata": {
    "tags": []
   },
   "outputs": [
    {
     "name": "stdout",
     "output_type": "stream",
     "text": [
      "+------+---------+--------------------+--------------------+----+-----------------+-----------------+------------------+------------------+-------------+-------------+-----------------+-----------------+------------------+------------------+----------+------------------+----------------------+-----------------+------------------+------------------+------------------+----+----------------+---------------------------------+---------------------------------+---------------------------------------+----------------------------------------------+-------------------------------------------+--------------------------------------+--------------------------------------+--------------------------------+--------------------------------+-------------------------------------+-------------------------------------+------------------------------------+------------------------------------+-------------------------------+-------------------------------+-----------------------------+--------------------------------+--------------------------------+---------------------------------+---------------------------------+------------------------------------+------------------------------------+---------------------------------+---------------------------------+---------------------------------+---------------------------------+--------------------+--------------------+--------------------+\n",
      "|   _id|    _type|         description|               image|link|maxplayers._VALUE|maxplayers._value|maxplaytime._VALUE|maxplaytime._value|minage._VALUE|minage._value|minplayers._VALUE|minplayers._value|minplaytime._VALUE|minplaytime._value|name.array|name.struct._VALUE|name.struct._sortindex|name.struct._type|name.struct._value|playingtime._VALUE|playingtime._value|poll|statistics._page|statistics.ratings.average._VALUE|statistics.ratings.average._value|statistics.ratings.averageweight._VALUE|statistics.ratings.averageweight._value.double|statistics.ratings.averageweight._value.int|statistics.ratings.bayesaverage._VALUE|statistics.ratings.bayesaverage._value|statistics.ratings.median._VALUE|statistics.ratings.median._value|statistics.ratings.numcomments._VALUE|statistics.ratings.numcomments._value|statistics.ratings.numweights._VALUE|statistics.ratings.numweights._value|statistics.ratings.owned._VALUE|statistics.ratings.owned._value|statistics.ratings.ranks.rank|statistics.ratings.stddev._VALUE|statistics.ratings.stddev._value|statistics.ratings.trading._VALUE|statistics.ratings.trading._value|statistics.ratings.usersrated._VALUE|statistics.ratings.usersrated._value|statistics.ratings.wanting._VALUE|statistics.ratings.wanting._value|statistics.ratings.wishing._VALUE|statistics.ratings.wishing._value|           thumbnail|yearpublished._VALUE|yearpublished._value|\n",
      "+------+---------+--------------------+--------------------+----+-----------------+-----------------+------------------+------------------+-------------+-------------+-----------------+-----------------+------------------+------------------+----------+------------------+----------------------+-----------------+------------------+------------------+------------------+----+----------------+---------------------------------+---------------------------------+---------------------------------------+----------------------------------------------+-------------------------------------------+--------------------------------------+--------------------------------------+--------------------------------+--------------------------------+-------------------------------------+-------------------------------------+------------------------------------+------------------------------------+-------------------------------+-------------------------------+-----------------------------+--------------------------------+--------------------------------+---------------------------------+---------------------------------+------------------------------------+------------------------------------+---------------------------------+---------------------------------+---------------------------------+---------------------------------+--------------------+--------------------+--------------------+\n",
      "| 28720|boardgame|Brass: Lancashire...|https://cf.geekdo...|   1|             null|                4|              null|               120|         null|           14|             null|                2|              null|                60|         1|              null|                  null|             null|              null|              null|               120|   1|               1|                             null|                          8.18947|                                   null|                                        3.8589|                                       null|                                  null|                               7.96473|                            null|                               0|                                 null|                                 4966|                                null|                                1609|                           null|                          30937|                            1|                            null|                          1.3708|                             null|                              541|                                null|                               23799|                             null|                              939|                             null|                             5818|https://cf.geekdo...|                null|                2007|\n",
      "|285774|boardgame|&quot;With great ...|https://cf.geekdo...|   2|             null|                4|              null|                90|         null|           14|             null|                1|              null|                45|         2|              null|                  null|             null|              null|              null|                90|   2|               1|                             null|                          8.13522|                                   null|                                        2.9153|                                       null|                                  null|                               7.80127|                            null|                               0|                                 null|                                 2826|                                null|                                 661|                           null|                          36100|                            2|                            null|                         1.45758|                             null|                              419|                                null|                               21298|                             null|                              559|                             null|                             5206|https://cf.geekdo...|                null|                2019|\n",
      "|216132|boardgame|Clans of Caledoni...|https://cf.geekdo...|   3|             null|                4|              null|               120|         null|           12|             null|                1|              null|                30|         3|              null|                  null|             null|              null|              null|               120|   3|               1|                             null|                          7.94935|                                   null|                                        3.4582|                                       null|                                  null|                               7.69315|                            null|                               0|                                 null|                                 2883|                                null|                                 766|                           null|                          21221|                            3|                            null|                         1.18545|                             null|                              177|                                null|                               19461|                             null|                             1087|                             null|                             6683|https://cf.geekdo...|                null|                2017|\n",
      "| 25613|boardgame|Through the Ages ...|https://cf.geekdo...|   4|             null|                4|              null|               120|         null|           12|             null|                2|              null|               120|         4|              null|                  null|             null|              null|              null|               120|   4|               1|                             null|                          7.85679|                                   null|                                        4.1745|                                       null|                                  null|                                7.6133|                            null|                               0|                                 null|                                 4126|                                null|                                1828|                           null|                          18012|                            4|                            null|                         1.69806|                             null|                              936|                                null|                               19086|                             null|                              570|                             null|                             4255|https://cf.geekdo...|                null|                2006|\n",
      "|170042|boardgame|Raiders of the No...|https://cf.geekdo...|   5|             null|                4|              null|                80|         null|           12|             null|                2|              null|                60|         5|              null|                  null|             null|              null|              null|                80|   5|               1|                             null|                           7.7465|                                   null|                                        2.5507|                                       null|                                  null|                               7.53182|                            null|                               0|                                 null|                                 3370|                                null|                                 641|                           null|                          29094|                            5|                            null|                         1.18612|                             null|                              261|                                null|                               22585|                             null|                              969|                             null|                             6824|https://cf.geekdo...|                null|                2015|\n",
      "|310873|boardgame|Carnegie was insp...|https://cf.geekdo...|   6|             null|                4|              null|               120|         null|           12|             null|                1|              null|                90|         6|              null|                  null|             null|              null|              null|               120|   6|               1|                             null|                          8.05157|                                   null|                                        3.8234|                                       null|                                  null|                               7.47036|                            null|                               0|                                 null|                                 1161|                                null|                                 385|                           null|                          10030|                            6|                            null|                         1.21402|                             null|                               74|                                null|                                7126|                             null|                              553|                             null|                             3293|https://cf.geekdo...|                null|                2022|\n",
      "|161970|boardgame|In Alchemists, tw...|https://cf.geekdo...|   7|             null|                4|              null|               120|         null|           13|             null|                2|              null|               120|         7|              null|                  null|             null|              null|              null|               120|   7|               1|                             null|                            7.651|                                   null|                                        3.9268|                                       null|                                  null|                               7.42427|                            null|                               0|                                 null|                                 3347|                                null|                                1148|                           null|                          29342|                            7|                            null|                         1.42073|                             null|                              513|                                null|                               21965|                             null|                              597|                             null|                             5442|https://cf.geekdo...|                null|                2014|\n",
      "|   463|boardgame|&#10;&#10;&#10;  ...|https://cf.geekdo...|   8|             null|                2|              null|                20|         null|           13|             null|                2|              null|                20|         8|              null|                  null|             null|              null|              null|                20|   8|               1|                             null|                           7.5655|                                   null|                                        3.2481|                                       null|                                  null|                               7.39284|                            null|                               0|                                 null|                                 7605|                                null|                                2261|                           null|                          41795|                            8|                            null|                         1.84337|                             null|                              847|                                null|                               38165|                             null|                              235|                             null|                              791|https://cf.geekdo...|                null|                1993|\n",
      "|128882|boardgame|The Resistance: A...|https://cf.geekdo...|   9|             null|               10|              null|                30|         null|           13|             null|                5|              null|                30|         9|              null|                  null|             null|              null|              null|                30|   9|               1|                             null|                          7.52574|                                   null|                                        1.7367|                                       null|                                  null|                               7.34261|                            null|                               0|                                 null|                                 4744|                                null|                                1033|                           null|                          46188|                            9|                            null|                         1.51086|                             null|                              782|                                null|                               32131|                             null|                              322|                             null|                             4430|https://cf.geekdo...|                null|                2012|\n",
      "|314491|boardgame|Meadow is an enga...|https://cf.geekdo...|  10|             null|                4|              null|                90|         null|           10|             null|                1|              null|                60|        10|              null|                  null|             null|              null|              null|                90|  10|               1|                             null|                          7.78406|                                   null|                                        2.2383|                                       null|                                  null|                               7.30464|                            null|                               0|                                 null|                                 1260|                                null|                                 256|                           null|                          15381|                           10|                            null|                         1.20153|                             null|                              120|                                null|                                8279|                             null|                              584|                             null|                             4140|https://cf.geekdo...|                null|                2021|\n",
      "| 54998|boardgame|In this latest co...|https://cf.geekdo...|  11|             null|                5|              null|                90|         null|           13|             null|                2|              null|                60|        11|              null|                  null|             null|              null|              null|                90|  11|               1|                             null|                          7.51241|                                   null|                                        2.8167|                                       null|                                  null|                               7.28026|                            null|                               0|                                 null|                                 3713|                                null|                                1015|                           null|                          23204|                           11|                            null|                         1.33071|                             null|                              428|                                null|                               20855|                             null|                             1008|                             null|                             6169|https://cf.geekdo...|                null|                2009|\n",
      "|192291|boardgame|Sushi Go Party! e...|https://cf.geekdo...|  12|             null|                8|              null|                20|         null|            8|             null|                2|              null|                20|        12|              null|                  null|             null|              null|              null|                20|  12|               1|                             null|                          7.40685|                                   null|                                        1.3036|                                       null|                                  null|                               7.25064|                            null|                               0|                                 null|                                 4400|                                null|                                 583|                           null|                          58286|                           12|                            null|                          1.1486|                             null|                              406|                                null|                               32343|                             null|                              468|                             null|                             5392|https://cf.geekdo...|                null|                2016|\n",
      "|128621|boardgame|In Viticulture, t...|https://cf.geekdo...|  13|             null|                6|              null|                90|         null|           13|             null|                2|              null|                90|        13|              null|                  null|             null|              null|              null|                90|  13|               1|                             null|                          7.51182|                                   null|                                        2.9327|                                       null|                                  null|                               7.22275|                            null|                               0|                                 null|                                 1796|                                null|                                 446|                           null|                          10997|                           13|                            null|                         1.43696|                             null|                              107|                                null|                               13076|                             null|                              476|                             null|                             3561|https://cf.geekdo...|                null|                2013|\n",
      "|322289|boardgame|When all you can ...|https://cf.geekdo...|  14|             null|                4|              null|               120|         null|           14|             null|                1|              null|                60|        14|              null|                  null|             null|              null|              null|               120|  14|               1|                             null|                           8.2298|                                   null|                                        3.8266|                                       null|                                  null|                               7.18466|                            null|                               0|                                 null|                                  730|                                null|                                 271|                           null|                           5879|                           14|                            null|                         1.32024|                             null|                               19|                                null|                                3447|                             null|                              397|                             null|                             3095|https://cf.geekdo...|                null|                2023|\n",
      "|187617|boardgame|Jules Verne's cla...|https://cf.geekdo...|  15|             null|                4|              null|               120|         null|           13|             null|                1|              null|                60|        15|              null|                  null|             null|              null|              null|               120|  15|               1|                             null|                          7.85633|                                   null|                                          3.27|                                       null|                                  null|                               7.15671|                            null|                               0|                                 null|                                 1401|                                null|                                 237|                           null|                          11944|                           15|                            null|                         1.35367|                             null|                              312|                                null|                                5003|                             null|                              463|                             null|                             3192|https://cf.geekdo...|                null|                2017|\n",
      "|245655|boardgame|The King's Dilemm...|https://cf.geekdo...|  16|             null|                5|              null|                60|         null|           14|             null|                3|              null|                45|        16|              null|                  null|             null|              null|              null|                60|  16|               1|                             null|                          7.80606|                                   null|                                        2.2391|                                       null|                                  null|                               7.13319|                            null|                               0|                                 null|                                 1041|                                null|                                 138|                           null|                          10410|                           16|                            null|                         1.63781|                             null|                              111|                                null|                                5204|                             null|                              535|                             null|                             5211|https://cf.geekdo...|                null|                2019|\n",
      "|111341|boardgame|The Great Zimbabw...|https://cf.geekdo...|  17|             null|                5|              null|               150|         null|           14|             null|                2|              null|                90|      null|              null|                     5|          primary|The Great Zimbabwe|              null|               150|  17|               1|                             null|                          7.82251|                                   null|                                         3.688|                                       null|                                  null|                               7.11409|                            null|                               0|                                 null|                                 1097|                                null|                                 250|                           null|                           5826|                           17|                            null|                         1.49824|                             null|                               67|                                null|                                4504|                             null|                              574|                             null|                             1756|https://cf.geekdo...|                null|                2012|\n",
      "|163745|boardgame|Massive Star Dest...|https://cf.geekdo...|  18|             null|                2|              null|               120|         null|           14|             null|                2|              null|               120|      null|              null|                     1|          primary| Star Wars: Armada|              null|               120|  18|               1|                             null|                          7.82304|                                   null|                                          3.16|                                       null|                                  null|                               7.09188|                            null|                               0|                                 null|                                  982|                                null|                                 225|                           null|                          10655|                           18|                            null|                         1.48545|                             null|                              227|                                null|                                5345|                             null|                              279|                             null|                             1713|https://cf.geekdo...|                null|                2015|\n",
      "|277085|boardgame|The noble Princes...|https://cf.geekdo...|  19|             null|                6|              null|                20|         null|           10|             null|                2|              null|                20|        17|              null|                  null|             null|              null|              null|                20|  19|               1|                             null|                          7.52663|                                   null|                                        1.1333|                                       null|                                  null|                               7.06913|                            null|                               0|                                 null|                                  881|                                null|                                 165|                           null|                          15520|                           19|                            null|                         1.30183|                             null|                               54|                                null|                                7851|                             null|                               56|                             null|                              902|https://cf.geekdo...|                null|                2019|\n",
      "| 21348|boardgame|Ticket to Ride: M...|https://cf.geekdo...|  20|             null|                5|              null|                60|         null|            8|             null|                2|              null|                30|        18|              null|                  null|             null|              null|              null|                60|  20|               1|                             null|                          7.41148|                                   null|                                        2.2427|                                       null|                                  null|                               7.04463|                            null|                               0|                                 null|                                 2190|                                null|                                 853|                           null|                          11618|                           20|                            null|                         1.25059|                             null|                              172|                                null|                                9095|                             null|                              453|                             null|                             1684|https://cf.geekdo...|                null|                2006|\n",
      "+------+---------+--------------------+--------------------+----+-----------------+-----------------+------------------+------------------+-------------+-------------+-----------------+-----------------+------------------+------------------+----------+------------------+----------------------+-----------------+------------------+------------------+------------------+----+----------------+---------------------------------+---------------------------------+---------------------------------------+----------------------------------------------+-------------------------------------------+--------------------------------------+--------------------------------------+--------------------------------+--------------------------------+-------------------------------------+-------------------------------------+------------------------------------+------------------------------------+-------------------------------+-------------------------------+-----------------------------+--------------------------------+--------------------------------+---------------------------------+---------------------------------+------------------------------------+------------------------------------+---------------------------------+---------------------------------+---------------------------------+---------------------------------+--------------------+--------------------+--------------------+\n",
      "only showing top 20 rows\n"
     ]
    }
   ],
   "source": [
    "bgg_relationalize.select(\"root\").toDF().show()"
   ]
  },
  {
   "cell_type": "code",
   "execution_count": 7,
   "metadata": {
    "tags": []
   },
   "outputs": [
    {
     "name": "stdout",
     "output_type": "stream",
     "text": [
      "root\n",
      "|-- id: long\n",
      "|-- index: int\n",
      "|-- poll.val.results.val.result.val._numvotes: int\n",
      "|-- poll.val.results.val.result.val._value: string\n",
      "|-- poll.val.results.val.result.val._level: int\n"
     ]
    }
   ],
   "source": [
    "bgg_relationalize.select(\"root_poll.val.results.val.result\").printSchema()"
   ]
  },
  {
   "cell_type": "code",
   "execution_count": 14,
   "metadata": {
    "tags": []
   },
   "outputs": [
    {
     "name": "stdout",
     "output_type": "stream",
     "text": [
      "+---+-----+-----------------------------------------+--------------------------------------+--------------------------------------+\n",
      "| id|index|poll.val.results.val.result.val._numvotes|poll.val.results.val.result.val._value|poll.val.results.val.result.val._level|\n",
      "+---+-----+-----------------------------------------+--------------------------------------+--------------------------------------+\n",
      "|  1|    0|                                        0|                                  Best|                                  null|\n",
      "|  1|    1|                                        4|                           Recommended|                                  null|\n",
      "|  1|    2|                                      267|                       Not Recommended|                                  null|\n",
      "|  2|    0|                                       58|                                  Best|                                  null|\n",
      "|  2|    1|                                      223|                           Recommended|                                  null|\n",
      "|  2|    2|                                      132|                       Not Recommended|                                  null|\n",
      "|  3|    0|                                      205|                                  Best|                                  null|\n",
      "|  3|    1|                                      272|                           Recommended|                                  null|\n",
      "|  3|    2|                                       14|                       Not Recommended|                                  null|\n",
      "|  4|    0|                                      389|                                  Best|                                  null|\n",
      "|  4|    1|                                      110|                           Recommended|                                  null|\n",
      "|  4|    2|                                        7|                       Not Recommended|                                  null|\n",
      "|  5|    0|                                        0|                                  Best|                                  null|\n",
      "|  5|    1|                                        0|                           Recommended|                                  null|\n",
      "|  5|    2|                                      229|                       Not Recommended|                                  null|\n",
      "|  6|    0|                                        0|                                     2|                                  null|\n",
      "|  6|    1|                                        0|                                     3|                                  null|\n",
      "|  6|    2|                                        0|                                     4|                                  null|\n",
      "|  6|    3|                                        0|                                     5|                                  null|\n",
      "|  6|    4|                                        0|                                     6|                                  null|\n",
      "+---+-----+-----------------------------------------+--------------------------------------+--------------------------------------+\n",
      "only showing top 20 rows\n"
     ]
    }
   ],
   "source": [
    "bgg_relationalize.select(\"root_poll.val.results.val.result\").toDF().show()"
   ]
  },
  {
   "cell_type": "code",
   "execution_count": 8,
   "metadata": {
    "tags": []
   },
   "outputs": [
    {
     "name": "stdout",
     "output_type": "stream",
     "text": [
      "root\n",
      "|-- id: long\n",
      "|-- index: int\n",
      "|-- poll.val.results.val._numplayers: string\n",
      "|-- poll.val.results.val.result: long\n"
     ]
    }
   ],
   "source": [
    "bgg_relationalize.select(\"root_poll.val.results\").printSchema()"
   ]
  },
  {
   "cell_type": "code",
   "execution_count": 15,
   "metadata": {
    "tags": []
   },
   "outputs": [
    {
     "name": "stdout",
     "output_type": "stream",
     "text": [
      "+---+-----+--------------------------------+---------------------------+\n",
      "| id|index|poll.val.results.val._numplayers|poll.val.results.val.result|\n",
      "+---+-----+--------------------------------+---------------------------+\n",
      "|  1|    0|                               1|                          1|\n",
      "|  1|    1|                               2|                          2|\n",
      "|  1|    2|                               3|                          3|\n",
      "|  1|    3|                               4|                          4|\n",
      "|  1|    4|                              4+|                          5|\n",
      "|  2|    0|                                |                          6|\n",
      "|  3|    0|                                |                          7|\n",
      "|  4|    0|                               1|                          8|\n",
      "|  4|    1|                               2|                          9|\n",
      "|  4|    2|                               3|                         10|\n",
      "|  4|    3|                               4|                         11|\n",
      "|  4|    4|                              4+|                         12|\n",
      "|  5|    0|                                |                         13|\n",
      "|  6|    0|                                |                         14|\n",
      "|  7|    0|                               1|                         15|\n",
      "|  7|    1|                               2|                         16|\n",
      "|  7|    2|                               3|                         17|\n",
      "|  7|    3|                               4|                         18|\n",
      "|  7|    4|                              4+|                         19|\n",
      "|  8|    0|                                |                         20|\n",
      "+---+-----+--------------------------------+---------------------------+\n",
      "only showing top 20 rows\n"
     ]
    }
   ],
   "source": [
    "bgg_relationalize.select(\"root_poll.val.results\").toDF().show()"
   ]
  },
  {
   "cell_type": "code",
   "execution_count": 9,
   "metadata": {
    "tags": []
   },
   "outputs": [
    {
     "name": "stdout",
     "output_type": "stream",
     "text": [
      "root\n",
      "|-- id: long\n",
      "|-- index: int\n",
      "|-- link.val._id: int\n",
      "|-- link.val._type: string\n",
      "|-- link.val._value: string\n",
      "|-- link.val._inbound: boolean\n"
     ]
    }
   ],
   "source": [
    "bgg_relationalize.select(\"root_link\").printSchema()"
   ]
  },
  {
   "cell_type": "code",
   "execution_count": 16,
   "metadata": {
    "tags": []
   },
   "outputs": [
    {
     "name": "stdout",
     "output_type": "stream",
     "text": [
      "+---+-----+------------+-----------------+--------------------+-----------------+\n",
      "| id|index|link.val._id|   link.val._type|     link.val._value|link.val._inbound|\n",
      "+---+-----+------------+-----------------+--------------------+-----------------+\n",
      "|  1|    0|        1021|boardgamecategory|            Economic|             null|\n",
      "|  1|    1|        1088|boardgamecategory|Industry / Manufa...|             null|\n",
      "|  1|    2|        2710|boardgamecategory|     Post-Napoleonic|             null|\n",
      "|  1|    3|        1011|boardgamecategory|      Transportation|             null|\n",
      "|  1|    4|        2040|boardgamemechanic|     Hand Management|             null|\n",
      "|  1|    5|        2902|boardgamemechanic|              Income|             null|\n",
      "|  1|    6|        2904|boardgamemechanic|               Loans|             null|\n",
      "|  1|    7|        2900|boardgamemechanic|              Market|             null|\n",
      "|  1|    8|        2081|boardgamemechanic|Network and Route...|             null|\n",
      "|  1|    9|        2849|boardgamemechanic|Tech Trees / Tech...|             null|\n",
      "|  1|   10|        2826|boardgamemechanic|Turn Order: Stat-...|             null|\n",
      "|  1|   11|       18587|  boardgamefamily|Cities: Mancheste...|             null|\n",
      "|  1|   12|       64960|  boardgamefamily|Components: Map (...|             null|\n",
      "|  1|   13|       81601|  boardgamefamily|Components: Map (...|             null|\n",
      "|  1|   14|       14759|  boardgamefamily|    Country: England|             null|\n",
      "|  1|   15|       22135|  boardgamefamily|Crowdfunding: Spi...|             null|\n",
      "|  1|   16|       77349|  boardgamefamily|Digital Implement...|             null|\n",
      "|  1|   17|       57499|  boardgamefamily|         Game: Brass|             null|\n",
      "|  1|   18|       50152|  boardgamefamily|History: Industri...|             null|\n",
      "|  1|   19|       66445|  boardgamefamily|       Theme: Canals|             null|\n",
      "+---+-----+------------+-----------------+--------------------+-----------------+\n",
      "only showing top 20 rows\n"
     ]
    }
   ],
   "source": [
    "bgg_relationalize.select(\"root_link\").toDF().show()"
   ]
  },
  {
   "cell_type": "code",
   "execution_count": 10,
   "metadata": {
    "tags": []
   },
   "outputs": [
    {
     "name": "stdout",
     "output_type": "stream",
     "text": [
      "root\n",
      "|-- id: long\n",
      "|-- index: int\n",
      "|-- statistics.ratings.ranks.rank.val._bayesaverage: double\n",
      "|-- statistics.ratings.ranks.rank.val._friendlyname: string\n",
      "|-- statistics.ratings.ranks.rank.val._id: int\n",
      "|-- statistics.ratings.ranks.rank.val._name: string\n",
      "|-- statistics.ratings.ranks.rank.val._type: string\n",
      "|-- statistics.ratings.ranks.rank.val._value: int\n"
     ]
    }
   ],
   "source": [
    "bgg_relationalize.select(\"root_statistics.ratings.ranks.rank\").printSchema()"
   ]
  },
  {
   "cell_type": "code",
   "execution_count": 17,
   "metadata": {
    "tags": []
   },
   "outputs": [
    {
     "name": "stdout",
     "output_type": "stream",
     "text": [
      "+---+-----+-----------------------------------------------+-----------------------------------------------+-------------------------------------+---------------------------------------+---------------------------------------+----------------------------------------+\n",
      "| id|index|statistics.ratings.ranks.rank.val._bayesaverage|statistics.ratings.ranks.rank.val._friendlyname|statistics.ratings.ranks.rank.val._id|statistics.ratings.ranks.rank.val._name|statistics.ratings.ranks.rank.val._type|statistics.ratings.ranks.rank.val._value|\n",
      "+---+-----+-----------------------------------------------+-----------------------------------------------+-------------------------------------+---------------------------------------+---------------------------------------+----------------------------------------+\n",
      "|  1|    0|                                        7.96473|                                Board Game Rank|                                    1|                              boardgame|                                subtype|                                      20|\n",
      "|  1|    1|                                        8.01197|                             Strategy Game Rank|                                 5497|                          strategygames|                                 family|                                      15|\n",
      "|  2|    0|                                        7.80127|                                Board Game Rank|                                    1|                              boardgame|                                subtype|                                      40|\n",
      "|  2|    1|                                        7.81202|                              Customizable Rank|                                 4667|                                    cgs|                                 family|                                       2|\n",
      "|  3|    0|                                        7.69315|                                Board Game Rank|                                    1|                              boardgame|                                subtype|                                      60|\n",
      "|  3|    1|                                        7.73944|                             Strategy Game Rank|                                 5497|                          strategygames|                                 family|                                      50|\n",
      "|  4|    0|                                         7.6133|                                Board Game Rank|                                    1|                              boardgame|                                subtype|                                      80|\n",
      "|  4|    1|                                        7.66703|                             Strategy Game Rank|                                 5497|                          strategygames|                                 family|                                      60|\n",
      "|  5|    0|                                        7.53182|                                Board Game Rank|                                    1|                              boardgame|                                subtype|                                     100|\n",
      "|  5|    1|                                        7.55227|                             Strategy Game Rank|                                 5497|                          strategygames|                                 family|                                      87|\n",
      "|  6|    0|                                        7.47036|                                Board Game Rank|                                    1|                              boardgame|                                subtype|                                     120|\n",
      "|  6|    1|                                        7.59288|                             Strategy Game Rank|                                 5497|                          strategygames|                                 family|                                      76|\n",
      "|  7|    0|                                        7.42427|                                Board Game Rank|                                    1|                              boardgame|                                subtype|                                     139|\n",
      "|  7|    1|                                        7.44445|                             Strategy Game Rank|                                 5497|                          strategygames|                                 family|                                     117|\n",
      "|  8|    0|                                        7.39284|                                Board Game Rank|                                    1|                              boardgame|                                subtype|                                     160|\n",
      "|  8|    1|                                        7.26105|                              Customizable Rank|                                 4667|                                    cgs|                                 family|                                      16|\n",
      "|  9|    0|                                        7.34261|                                Board Game Rank|                                    1|                              boardgame|                                subtype|                                     180|\n",
      "|  9|    1|                                         7.3178|                                Party Game Rank|                                 5498|                             partygames|                                 family|                                      12|\n",
      "| 10|    0|                                        7.30464|                                Board Game Rank|                                    1|                              boardgame|                                subtype|                                     199|\n",
      "| 10|    1|                                        7.36694|                             Strategy Game Rank|                                 5497|                          strategygames|                                 family|                                     146|\n",
      "+---+-----+-----------------------------------------------+-----------------------------------------------+-------------------------------------+---------------------------------------+---------------------------------------+----------------------------------------+\n",
      "only showing top 20 rows\n"
     ]
    }
   ],
   "source": [
    "bgg_relationalize.select(\"root_statistics.ratings.ranks.rank\").toDF().show()"
   ]
  },
  {
   "cell_type": "code",
   "execution_count": 11,
   "metadata": {
    "tags": []
   },
   "outputs": [
    {
     "name": "stdout",
     "output_type": "stream",
     "text": [
      "root\n",
      "|-- id: long\n",
      "|-- index: int\n",
      "|-- name.array.val._sortindex: int\n",
      "|-- name.array.val._type: string\n",
      "|-- name.array.val._value: string\n"
     ]
    }
   ],
   "source": [
    "bgg_relationalize.select(\"root_name.array\").printSchema()"
   ]
  },
  {
   "cell_type": "code",
   "execution_count": 18,
   "metadata": {
    "tags": []
   },
   "outputs": [
    {
     "name": "stdout",
     "output_type": "stream",
     "text": [
      "+---+-----+-------------------------+--------------------+--------------------------+\n",
      "| id|index|name.array.val._sortindex|name.array.val._type|     name.array.val._value|\n",
      "+---+-----+-------------------------+--------------------+--------------------------+\n",
      "|  1|    0|                        1|             primary|         Brass: Lancashire|\n",
      "|  1|    1|                        1|           alternate|                     Brass|\n",
      "|  1|    2|                        1|           alternate|              Brass Deluxe|\n",
      "|  1|    3|                        1|           alternate|           Brass. Ланкашир|\n",
      "|  1|    4|                        1|           alternate|         Brass: Lancashire|\n",
      "|  1|    5|                        1|           alternate|      Kohle: Mit Vollda...|\n",
      "|  1|    6|                        1|           alternate|      ブラス：ランカシャー|\n",
      "|  1|    7|                        1|           alternate|                  工業革命|\n",
      "|  1|    8|                        1|           alternate|          工業革命：蘭開夏|\n",
      "|  1|    9|                        1|           alternate|            브라스: 랭커셔|\n",
      "|  2|    0|                        1|             primary|      Marvel Champions:...|\n",
      "|  2|    1|                        1|           alternate|      Marvel Champions:...|\n",
      "|  2|    2|                        1|           alternate|      Marvel Champions:...|\n",
      "|  2|    3|                        1|           alternate|      Marvel Champions:...|\n",
      "|  2|    4|                        1|           alternate|      Marvel Champions:...|\n",
      "|  2|    5|                        1|           alternate|      Marvel Champions:...|\n",
      "|  2|    6|                        1|           alternate|      Marvel Champions:...|\n",
      "|  2|    7|                        1|           alternate|Marvel 챔피언스: 카드 게임|\n",
      "|  2|    8|                        1|           alternate|              漫威傳奇再起|\n",
      "|  2|    9|                        1|           alternate|                漫威群英传|\n",
      "+---+-----+-------------------------+--------------------+--------------------------+\n",
      "only showing top 20 rows\n"
     ]
    }
   ],
   "source": [
    "bgg_relationalize.select(\"root_name.array\").toDF().show()"
   ]
  },
  {
   "cell_type": "code",
   "execution_count": 12,
   "metadata": {
    "tags": []
   },
   "outputs": [
    {
     "name": "stdout",
     "output_type": "stream",
     "text": [
      "root\n",
      "|-- id: long\n",
      "|-- index: int\n",
      "|-- poll.val._name: string\n",
      "|-- poll.val._title: string\n",
      "|-- poll.val._totalvotes: int\n",
      "|-- poll.val.results: long\n"
     ]
    }
   ],
   "source": [
    "bgg_relationalize.select(\"root_poll\").printSchema()"
   ]
  },
  {
   "cell_type": "code",
   "execution_count": 19,
   "metadata": {
    "tags": []
   },
   "outputs": [
    {
     "name": "stdout",
     "output_type": "stream",
     "text": [
      "+---+-----+--------------------+--------------------+--------------------+----------------+\n",
      "| id|index|      poll.val._name|     poll.val._title|poll.val._totalvotes|poll.val.results|\n",
      "+---+-----+--------------------+--------------------+--------------------+----------------+\n",
      "|  1|    0|suggested_numplayers|User Suggested Nu...|                 577|               1|\n",
      "|  1|    1| suggested_playerage|User Suggested Pl...|                  95|               2|\n",
      "|  1|    2| language_dependence| Language Dependence|                 100|               3|\n",
      "|  2|    0|suggested_numplayers|User Suggested Nu...|                 688|               4|\n",
      "|  2|    1| suggested_playerage|User Suggested Pl...|                 116|               5|\n",
      "|  2|    2| language_dependence| Language Dependence|                  22|               6|\n",
      "|  3|    0|suggested_numplayers|User Suggested Nu...|                 387|               7|\n",
      "|  3|    1| suggested_playerage|User Suggested Pl...|                  80|               8|\n",
      "|  3|    2| language_dependence| Language Dependence|                  30|               9|\n",
      "|  4|    0|suggested_numplayers|User Suggested Nu...|                 682|              10|\n",
      "|  4|    1| suggested_playerage|User Suggested Pl...|                 165|              11|\n",
      "|  4|    2| language_dependence| Language Dependence|                 201|              12|\n",
      "|  5|    0|suggested_numplayers|User Suggested Nu...|                 330|              13|\n",
      "|  5|    1| suggested_playerage|User Suggested Pl...|                  74|              14|\n",
      "|  5|    2| language_dependence| Language Dependence|                  31|              15|\n",
      "|  6|    0|suggested_numplayers|User Suggested Nu...|                 285|              16|\n",
      "|  6|    1| suggested_playerage|User Suggested Pl...|                  30|              17|\n",
      "|  6|    2| language_dependence| Language Dependence|                  13|              18|\n",
      "|  7|    0|suggested_numplayers|User Suggested Nu...|                 390|              19|\n",
      "|  7|    1| suggested_playerage|User Suggested Pl...|                  91|              20|\n",
      "+---+-----+--------------------+--------------------+--------------------+----------------+\n",
      "only showing top 20 rows\n"
     ]
    }
   ],
   "source": [
    "bgg_relationalize.select(\"root_poll\").toDF().show()"
   ]
  },
  {
   "cell_type": "code",
   "execution_count": null,
   "metadata": {},
   "outputs": [],
   "source": []
  }
 ],
 "metadata": {
  "kernelspec": {
   "display_name": "Python 3",
   "language": "python",
   "name": "python3"
  },
  "language_info": {
   "codemirror_mode": {
    "name": "ipython",
    "version": 3
   },
   "file_extension": ".py",
   "mimetype": "text/x-python",
   "name": "python",
   "nbconvert_exporter": "python",
   "pygments_lexer": "ipython3",
   "version": "3.9.12"
  }
 },
 "nbformat": 4,
 "nbformat_minor": 4
}
